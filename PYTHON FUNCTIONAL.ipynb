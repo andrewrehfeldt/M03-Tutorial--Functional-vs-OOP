{
 "cells": [
  {
   "cell_type": "code",
   "execution_count": null,
   "metadata": {},
   "outputs": [],
   "source": [
    "# andrew rehfeldt\n",
    "# functional program\n",
    "\n",
    "def add(x, y):\n",
    "    return x + y\n",
    "\n",
    "print(add(3, 4))\n",
    "\n",
    "def subtract(x, y):\n",
    "    return x - y\n",
    "\n",
    "print(subtract(7,1))\n",
    "\n",
    "def multiply(x, y):\n",
    "    return x * y\n",
    "\n",
    "print(multiply(2, 6))\n",
    "\n",
    "def divide(x, y):\n",
    "    return x / y\n",
    "\n",
    "print(divide(9,3))\n",
    "\n",
    "def doMath(action, x, y):\n",
    "    return action(x,y)\n",
    "\n",
    "print(doMath(add, 7, 12))\n",
    "print(doMath(subtract,8, 5))\n",
    "print(doMath(multiply,9, 2))\n",
    "print(doMath(divide, 15, 5))\n",
    "\n",
    "mylist = [1,2,3,4]\n",
    "doubledlist = [2*val for val in mylist]\n",
    "print(doubledlist)"
   ]
  }
 ],
 "metadata": {
  "language_info": {
   "name": "python"
  },
  "orig_nbformat": 4
 },
 "nbformat": 4,
 "nbformat_minor": 2
}

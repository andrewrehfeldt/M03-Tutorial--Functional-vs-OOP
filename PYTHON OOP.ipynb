{
 "cells": [
  {
   "cell_type": "code",
   "execution_count": null,
   "metadata": {},
   "outputs": [],
   "source": [
    "# andrew rehfeldt\n",
    "# OOP code\n",
    "\n",
    "class doMath:\n",
    "    def __init__(self, val1, val2):\n",
    "        self.val1 = val1\n",
    "        self.val2 = val2\n",
    "    def add(self):\n",
    "        return self.val1 + self.val2\n",
    "    def subtract(self):\n",
    "        return self.val1 - self.val2\n",
    "    def multiply(self):\n",
    "        return self.val1 * self.val2\n",
    "    def division(self):\n",
    "        return self.val1 / self.val2\n",
    "    def doubleinput(self):\n",
    "        self.val1 *= 2\n",
    "        self.val2 *= 2\n",
    "    \n",
    "instanceVar = doMath(12, 6)\n",
    "print(instanceVar.add())\n",
    "print(instanceVar.subtract())\n",
    "print(instanceVar.multiply())\n",
    "print(instanceVar.division())\n",
    "print(instanceVar.doubleinput())"
   ]
  }
 ],
 "metadata": {
  "language_info": {
   "name": "python"
  },
  "orig_nbformat": 4
 },
 "nbformat": 4,
 "nbformat_minor": 2
}
